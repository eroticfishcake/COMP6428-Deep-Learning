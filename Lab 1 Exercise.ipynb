{
 "cells": [
  {
   "cell_type": "code",
   "execution_count": 25,
   "metadata": {},
   "outputs": [
    {
     "name": "stdout",
     "output_type": "stream",
     "text": [
      "tensor([[0.3374, 0.6005, 0.1735],\n",
      "        [3.3359, 0.0492, 1.8374],\n",
      "        [2.9704, 0.5301, 2.2620]])\n",
      "tensor([[0., 0.],\n",
      "        [1., 1.],\n",
      "        [0., 0.]])\n",
      "tensor([[0., 1.],\n",
      "        [1., 1.],\n",
      "        [1., 0.]])\n",
      "length losses torch.Size([])\n"
     ]
    },
    {
     "data": {
      "image/png": "[encoded data removed]",
      "text/plain": [
       "<Figure size 432x288 with 1 Axes>"
      ]
     },
     "metadata": {
      "needs_background": "light"
     },
     "output_type": "display_data"
    },
    {
     "name": "stdout",
     "output_type": "stream",
     "text": [
      "tensor([[0.1837, 0.1826],\n",
      "        [1.5589, 1.5653],\n",
      "        [1.5498, 1.5442]])\n",
      "tensor([[2.0133, 0.2313, 1.3299],\n",
      "        [2.0333, 0.2247, 1.3009]])\n",
      "tensor([[0.7412, 0.0835, 0.4819],\n",
      "        [6.3210, 0.7123, 4.1095],\n",
      "        [6.2598, 0.7055, 4.0700]])\n",
      "tensor(29.1588)\n"
     ]
    }
   ],
   "source": [
    "from typing import Tuple\n",
    "import torch\n",
    "import matplotlib.pyplot as plt\n",
    "\n",
    "rank = 2\n",
    "A = torch.Tensor([0.3374, 0.6005, 0.1735, 3.3359, 0.0492, 1.8374, 2.9704, 0.5301, 2.2620])\n",
    "A = torch.reshape(A, (3, 3))\n",
    "print(A)\n",
    "losses = []\n",
    "def sgd_factorise(A, rank, losses, num_epochs = 1000, lr = 0.001):\n",
    "    U = torch.empty(A.size()[0], rank).random_(2)\n",
    "    V = torch.empty(A.size()[1], rank).random_(2)\n",
    "    print(U)\n",
    "    print(V)\n",
    "    for epoch in range(num_epochs):\n",
    "        for i in range(A.size()[0]):\n",
    "            for j in range(A.size()[1]):\n",
    "                e = A[i][j] - U[i]*V[j].t()\n",
    "                U[i] = U[i] + lr*e*V[j]\n",
    "                V[j] = V[j] + lr*e*U[i]\n",
    "        loss = torch.nn.functional.mse_loss(A, torch.matmul(U,V.t()), reduction = \"sum\")\n",
    "        losses.append(loss)\n",
    "    return U, V, losses\n",
    "\n",
    "U, V, losses = sgd_factorise(A, rank, losses, num_epochs = 1000, lr = 0.001)\n",
    "print(\"length losses\", loss.size())\n",
    "plt.plot(range(1000), losses)\n",
    "plt.xlabel(\"iteration\")\n",
    "plt.ylabel(\"loss\")\n",
    "plt\n",
    "plt.show()\n",
    "print(U)\n",
    "print(V.t())\n",
    "print(torch.matmul(U,V.t()))\n"
   ]
  },
  {
   "cell_type": "code",
   "execution_count": 2,
   "metadata": {},
   "outputs": [
    {
     "name": "stdout",
     "output_type": "stream",
     "text": [
      "3\n",
      "tensor([[0., 1., 1.],\n",
      "        [0., 0., 1.],\n",
      "        [1., 0., 1.]])\n"
     ]
    }
   ],
   "source": [
    "A = torch.Tensor([0.3374, 0.6005, 0.1735, 3.3359, 0.0492, 1.8374, 2.9704, 0.5301, 2.2620])\n",
    "A = torch.reshape(A, (3, 3))\n",
    "\n"
   ]
  },
  {
   "cell_type": "code",
   "execution_count": null,
   "metadata": {},
   "outputs": [],
   "source": []
  }
 ],
 "metadata": {
  "kernelspec": {
   "display_name": "Python 3",
   "language": "python",
   "name": "python3"
  },
  "language_info": {
   "codemirror_mode": {
    "name": "ipython",
    "version": 3
   },
   "file_extension": ".py",
   "mimetype": "text/x-python",
   "name": "python",
   "nbconvert_exporter": "python",
   "pygments_lexer": "ipython3",
   "version": "3.7.6"
  }
 },
 "nbformat": 4,
 "nbformat_minor": 4
}
