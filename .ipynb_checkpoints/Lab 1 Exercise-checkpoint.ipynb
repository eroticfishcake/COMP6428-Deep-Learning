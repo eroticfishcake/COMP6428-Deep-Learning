{
 "cells": [
  {
   "cell_type": "code",
   "execution_count": 2,
   "metadata": {},
   "outputs": [
    {
     "data": {
      "image/png": "[encoded data removed]",
      "text/plain": [
       "<Figure size 432x288 with 1 Axes>"
      ]
     },
     "metadata": {
      "needs_background": "light"
     },
     "output_type": "display_data"
    }
   ],
   "source": [
    "from typing import Tuple\n",
    "import torch\n",
    "import matplotlib.pyplot as plt\n",
    "\n",
    "rank = 2\n",
    "A = torch.Tensor([0.3374, 0.6005, 0.1735, 3.3359, 0.0492, 1.8374, 2.9704, 0.5301, 2.2620])\n",
    "A = torch.reshape(A, (3, 3))\n",
    "losses = []\n",
    "def sgd_factorise(A, rank, losses, num_epochs = 1000, lr = 0.001):\n",
    "    U = torch.empty(A.size()[0], rank).random_(2)\n",
    "    V = torch.empty(A.size()[1], rank).random_(2)\n",
    "    for epoch in range(num_epochs):\n",
    "        for i in range(A.size()[0]):\n",
    "            for j in range(A.size()[1]):\n",
    "                e = A[i][j] - U[i]*V[j].t()\n",
    "                U[i] = U[i] + lr*e*V[j]\n",
    "                V[j] = V[j] + lr*e*U[i]\n",
    "        loss = torch.nn.functional.mse_loss(A, torch.matmul(U,V.t()), reduction = \"sum\")\n",
    "        losses.append(loss)\n",
    "    return U, V, losses\n",
    "\n",
    "U, V, losses = sgd_factorise(A, rank, losses, num_epochs = 1000, lr = 0.001)\n",
    "plt.plot(range(1000), losses)\n",
    "plt.title(\"loss vs iteration for matrix factorization\")\n",
    "plt.xlabel(\"iteration\")\n",
    "plt.ylabel(\"loss\")\n",
    "plt.show()\n",
    "\n"
   ]
  },
  {
   "cell_type": "code",
   "execution_count": 25,
   "metadata": {},
   "outputs": [
    {
     "name": "stdout",
     "output_type": "stream",
     "text": [
      "according to Eckart-Young theorem ||A - A_k|| = 0.3408477008342743 is always less or equal ||A - B|| = 4.037203788757324\n"
     ]
    }
   ],
   "source": [
    "U, S, V = torch.svd(A)\n",
    "S[2] = 0\n",
    "new = torch.mm(torch.mm(U, torch.diag(S)), V.t())\n",
    "B = torch.rand(3, 3)\n",
    "error1 = torch.dist(A, torch.mm(torch.mm(U, torch.diag(S)), V.t()))\n",
    "error2 = torch.dist(A, B)\n",
    "print(\"according to Eckart-Young theorem ||A - A_k|| = {0} is always less or equal ||A - B|| = {1}\".format(float(error1), float(error2)))\n"
   ]
  },
  {
   "cell_type": "code",
   "execution_count": null,
   "metadata": {},
   "outputs": [],
   "source": []
  },
  {
   "cell_type": "code",
   "execution_count": null,
   "metadata": {},
   "outputs": [],
   "source": []
  }
 ],
 "metadata": {
  "kernelspec": {
   "display_name": "Python 3",
   "language": "python",
   "name": "python3"
  },
  "language_info": {
   "codemirror_mode": {
    "name": "ipython",
    "version": 3
   },
   "file_extension": ".py",
   "mimetype": "text/x-python",
   "name": "python",
   "nbconvert_exporter": "python",
   "pygments_lexer": "ipython3",
   "version": "3.7.6"
  }
 },
 "nbformat": 4,
 "nbformat_minor": 4
}
